{
 "cells": [
  {
   "cell_type": "code",
   "execution_count": 1,
   "id": "ba0952ab-834e-4576-9f33-ba12be8e32fb",
   "metadata": {},
   "outputs": [],
   "source": [
    "# proving list is a dynamic array"
   ]
  },
  {
   "cell_type": "code",
   "execution_count": 2,
   "id": "06858eb6-b36a-45dc-9724-baf12db81069",
   "metadata": {},
   "outputs": [],
   "source": [
    "import sys"
   ]
  },
  {
   "cell_type": "code",
   "execution_count": 3,
   "id": "f55ababf-4ad9-4253-9522-39cd165ca1b0",
   "metadata": {},
   "outputs": [],
   "source": [
    "L = []"
   ]
  },
  {
   "cell_type": "code",
   "execution_count": 4,
   "id": "d3286e9d-7cfd-41f3-8012-8e3d64b65021",
   "metadata": {
    "scrolled": true
   },
   "outputs": [
    {
     "name": "stdout",
     "output_type": "stream",
     "text": [
      "1 56\n",
      "2 88\n",
      "3 88\n",
      "4 88\n",
      "5 88\n",
      "6 120\n",
      "7 120\n",
      "8 120\n",
      "9 120\n",
      "10 184\n",
      "11 184\n",
      "12 184\n",
      "13 184\n",
      "14 184\n",
      "15 184\n",
      "16 184\n",
      "17 184\n",
      "18 248\n",
      "19 248\n",
      "20 248\n",
      "21 248\n",
      "22 248\n",
      "23 248\n",
      "24 248\n",
      "25 248\n",
      "26 312\n",
      "27 312\n",
      "28 312\n",
      "29 312\n",
      "30 312\n",
      "31 312\n",
      "32 312\n",
      "33 312\n",
      "34 376\n",
      "35 376\n",
      "36 376\n",
      "37 376\n",
      "38 376\n",
      "39 376\n",
      "40 376\n",
      "41 376\n",
      "42 472\n",
      "43 472\n",
      "44 472\n",
      "45 472\n",
      "46 472\n",
      "47 472\n",
      "48 472\n",
      "49 472\n",
      "50 472\n",
      "51 472\n",
      "52 472\n",
      "53 472\n",
      "54 568\n",
      "55 568\n",
      "56 568\n",
      "57 568\n",
      "58 568\n",
      "59 568\n",
      "60 568\n",
      "61 568\n",
      "62 568\n",
      "63 568\n",
      "64 568\n",
      "65 568\n",
      "66 664\n",
      "67 664\n",
      "68 664\n",
      "69 664\n",
      "70 664\n",
      "71 664\n",
      "72 664\n",
      "73 664\n",
      "74 664\n",
      "75 664\n",
      "76 664\n",
      "77 664\n",
      "78 792\n",
      "79 792\n",
      "80 792\n",
      "81 792\n",
      "82 792\n",
      "83 792\n",
      "84 792\n",
      "85 792\n",
      "86 792\n",
      "87 792\n",
      "88 792\n",
      "89 792\n",
      "90 792\n",
      "91 792\n",
      "92 792\n",
      "93 792\n",
      "94 920\n",
      "95 920\n",
      "96 920\n",
      "97 920\n",
      "98 920\n",
      "99 920\n"
     ]
    }
   ],
   "source": [
    "for i in range(1,100) :\n",
    "    print(i,sys.getsizeof(L))\n",
    "    L.append(i)\n",
    "    \n"
   ]
  },
  {
   "cell_type": "code",
   "execution_count": 5,
   "id": "f44ba36e-9593-4555-866a-2c182c0ec5dc",
   "metadata": {},
   "outputs": [],
   "source": [
    "import ctypes"
   ]
  },
  {
   "cell_type": "code",
   "execution_count": 12,
   "id": "dfc124d6-fdd7-4803-8956-de31378ada0b",
   "metadata": {},
   "outputs": [],
   "source": [
    "class my_list :\n",
    "\n",
    "    def __init__(self):\n",
    "        self.size = 1 # max element array can store\n",
    "        self.n = 0 # elements currently present in the list\n",
    "        # create a C type array with size = self.size\n",
    "        self.a = self._makearray(self.size)\n",
    "\n",
    "    def __len__(self): #magic method\n",
    "        return self.n\n",
    "\n",
    "    def __str__(self):\n",
    "        result =''\n",
    "        for i in (self.n):\n",
    "            result = result + 'str(self.a[i]'+ ','\n",
    "        return '['+ result[:-1]+']'\n",
    "    def append(self,e):\n",
    "        if self.n == self.size: #not vacant\n",
    "            self.resize(self.size*2)\n",
    "\n",
    "        #append if vacant\n",
    "        self.a[self.n] = e\n",
    "        self.n = self.n + 1 \n",
    "\n",
    "    def resize(self,new_capacity):\n",
    "        # create the new error\n",
    "        B = self._makearray(new_capacity)\n",
    "        self.size = new_capacity\n",
    "        # copy the contents\n",
    "        for i in range(self.n):\n",
    "            B[i] = self.a[i]\n",
    "        self.a = B \n",
    "        \n",
    "    def _makearray(self,capacity):\n",
    "        # create a c type array\n",
    "        return (capacity*ctypes.py_object)()\n",
    "    "
   ]
  },
  {
   "cell_type": "code",
   "execution_count": 7,
   "id": "52da01e5-59f2-48d1-b5b8-41b9105a6862",
   "metadata": {},
   "outputs": [],
   "source": [
    "L = my_list()"
   ]
  },
  {
   "cell_type": "code",
   "execution_count": 8,
   "id": "e8c7c411-5acd-40c8-8198-d386c8e95721",
   "metadata": {},
   "outputs": [
    {
     "data": {
      "text/plain": [
       "0"
      ]
     },
     "execution_count": 8,
     "metadata": {},
     "output_type": "execute_result"
    }
   ],
   "source": [
    "len(L)"
   ]
  },
  {
   "cell_type": "code",
   "execution_count": null,
   "id": "48b55379-3d91-4355-ae13-be8306e7331d",
   "metadata": {},
   "outputs": [],
   "source": [
    "L.append"
   ]
  },
  {
   "cell_type": "code",
   "execution_count": null,
   "id": "9a9abac2-3c93-4397-9d71-3b3c2d6cf37b",
   "metadata": {},
   "outputs": [],
   "source": []
  },
  {
   "cell_type": "code",
   "execution_count": null,
   "id": "e1ab1c8d-7018-482f-a3f0-ab109b0dbc24",
   "metadata": {},
   "outputs": [],
   "source": []
  },
  {
   "cell_type": "code",
   "execution_count": null,
   "id": "fa84f0b5-c6d3-4ed7-b4b7-b97b099e8310",
   "metadata": {},
   "outputs": [],
   "source": []
  },
  {
   "cell_type": "code",
   "execution_count": null,
   "id": "d818398f-1840-4b41-bbae-5b2f3396a919",
   "metadata": {},
   "outputs": [],
   "source": []
  },
  {
   "cell_type": "code",
   "execution_count": null,
   "id": "078f29ff-3d63-4c70-b80c-97cedba18cf5",
   "metadata": {},
   "outputs": [],
   "source": []
  },
  {
   "cell_type": "code",
   "execution_count": null,
   "id": "f2942b48-c95a-462f-b1c7-f5071c63edfe",
   "metadata": {},
   "outputs": [],
   "source": []
  },
  {
   "cell_type": "code",
   "execution_count": null,
   "id": "ba657124-80f3-4a4f-9e31-a0057a539a21",
   "metadata": {},
   "outputs": [],
   "source": []
  },
  {
   "cell_type": "code",
   "execution_count": null,
   "id": "62064851-9b58-4248-8f45-9c6a82e4ce4d",
   "metadata": {},
   "outputs": [],
   "source": []
  },
  {
   "cell_type": "code",
   "execution_count": null,
   "id": "f7622629-c410-4ea0-a0d5-b429d239d57c",
   "metadata": {},
   "outputs": [],
   "source": []
  },
  {
   "cell_type": "code",
   "execution_count": null,
   "id": "6830e205-606c-466a-b99d-225fec53651d",
   "metadata": {},
   "outputs": [],
   "source": []
  },
  {
   "cell_type": "code",
   "execution_count": null,
   "id": "69fe5592-9870-426d-bb1e-52166f316676",
   "metadata": {},
   "outputs": [],
   "source": []
  },
  {
   "cell_type": "code",
   "execution_count": null,
   "id": "20be8702-3dbf-4d1e-bd37-e6b2c9ef3544",
   "metadata": {},
   "outputs": [],
   "source": []
  },
  {
   "cell_type": "code",
   "execution_count": null,
   "id": "16d8b0c4-e147-45d1-894d-63f891a33c5d",
   "metadata": {},
   "outputs": [],
   "source": []
  }
 ],
 "metadata": {
  "kernelspec": {
   "display_name": "Python 3 (ipykernel)",
   "language": "python",
   "name": "python3"
  },
  "language_info": {
   "codemirror_mode": {
    "name": "ipython",
    "version": 3
   },
   "file_extension": ".py",
   "mimetype": "text/x-python",
   "name": "python",
   "nbconvert_exporter": "python",
   "pygments_lexer": "ipython3",
   "version": "3.12.3"
  }
 },
 "nbformat": 4,
 "nbformat_minor": 5
}
