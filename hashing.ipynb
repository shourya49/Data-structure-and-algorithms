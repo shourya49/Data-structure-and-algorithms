{
 "cells": [
  {
   "cell_type": "code",
   "execution_count": 1,
   "id": "c170181a-cdfe-4fd9-9635-4a6c795435a5",
   "metadata": {},
   "outputs": [],
   "source": [
    "class Dict:\n",
    "\n",
    "    def __init__(self,size):\n",
    "        self.size = size\n",
    "        self.slots = [None] * self.size   # create an array of size this act as key in dict\n",
    "        self.data = [None] * self.size\n",
    "\n",
    "    def put(self, key, value):\n",
    "        hash_value = self.hash_function(key)\n",
    "        \n",
    "        if self.slots[hash_value] == None:\n",
    "            self.slots[hash_value] = key\n",
    "            self.data[hash_value] = value\n",
    "\n",
    "        else:\n",
    "            if self.slots[hash_value] == key:\n",
    "                self.data[hash_value] = value\n",
    "\n",
    "            else :\n",
    "                new_hash_value = self.rehash(hash_value)\n",
    "                while new_hash_value is not None and self.slots[new_hash_value] != key:\n",
    "                     new_hash_value = self.rehash(new_hash_value)   \n",
    "                if self.slots[new_hash_value] == None:\n",
    "                    self.slots[new_hash_value] = key\n",
    "                    self.data[new_hash_value] = value\n",
    "                else:\n",
    "                    self.data[new_hash_value] = value\n",
    "                    \n",
    "    def get(self,key):\n",
    "        start_position = self.hash_function(key)\n",
    "        curr_postion = start_position\n",
    "        while self.slots[curr_postion] is not None:\n",
    "            if self.slots[curr_postion] == key:\n",
    "                return self.data[curr_postion]\n",
    "\n",
    "            curr_postion = self.rehash(curr_postion)\n",
    "\n",
    "            if curr_postion == start_position:\n",
    "                return 'item not found'\n",
    "\n",
    "        return 'item not found'\n",
    "\n",
    "    def __str__(self):\n",
    "        for i in range(len(self.slots)):\n",
    "            if self.slots[i] is not None:\n",
    "                print(self.slots[i] , self.data[i])\n",
    "    \n",
    "    def __setitem__(self,key,value):\n",
    "         self.put(key,value)\n",
    "    def __getitem__(self,key):\n",
    "        self.get(key)\n",
    "        \n",
    "    def rehash(self,old_hash):\n",
    "        return (old_hash + 1) % self.size\n",
    "    \n",
    "    def hash_function(self,key):\n",
    "        return abs(hash(key)) % self.size"
   ]
  },
  {
   "cell_type": "code",
   "execution_count": 2,
   "id": "ec668c14-ecba-4104-aeb2-53b3cdc77c11",
   "metadata": {},
   "outputs": [],
   "source": [
    "d1 = Dict(3)"
   ]
  },
  {
   "cell_type": "code",
   "execution_count": 3,
   "id": "71c57d29-bcb9-48b2-965a-e2126b5c44bc",
   "metadata": {},
   "outputs": [
    {
     "name": "stdout",
     "output_type": "stream",
     "text": [
      "[None, None, None]\n",
      "[None, None, None]\n"
     ]
    }
   ],
   "source": [
    "print(d1.slots)\n",
    "print(d1.data)"
   ]
  },
  {
   "cell_type": "code",
   "execution_count": 4,
   "id": "0c924eab-ce8f-4e60-8517-e27176799490",
   "metadata": {},
   "outputs": [],
   "source": [
    "d1['python'] = 56"
   ]
  },
  {
   "cell_type": "code",
   "execution_count": 5,
   "id": "396b3838-ae55-4674-82e6-c6a811ca9935",
   "metadata": {},
   "outputs": [],
   "source": [
    "d1['java'] = 100"
   ]
  },
  {
   "cell_type": "code",
   "execution_count": 6,
   "id": "2b27fecd-7f17-40b2-b459-bc27211f5b54",
   "metadata": {},
   "outputs": [
    {
     "data": {
      "text/plain": [
       "56"
      ]
     },
     "execution_count": 6,
     "metadata": {},
     "output_type": "execute_result"
    }
   ],
   "source": [
    "d1.get('python')"
   ]
  },
  {
   "cell_type": "code",
   "execution_count": 9,
   "id": "d68aee97-7335-4604-a63c-8cdc0d496d37",
   "metadata": {},
   "outputs": [],
   "source": [
    "class Node:\n",
    "\n",
    "  def __init__(self,key,value):\n",
    "    self.key = key\n",
    "    self.value = value\n",
    "    self.next = None"
   ]
  },
  {
   "cell_type": "code",
   "execution_count": 10,
   "id": "25daabf1-ebc5-4dee-9fb9-e5eb2f2bc0c5",
   "metadata": {},
   "outputs": [],
   "source": [
    "class LL:\n",
    "\n",
    "  def __init__(self):\n",
    "    self.head = None\n",
    "\n",
    "  def add(self, key, value):\n",
    "\n",
    "    new_node = Node(key, value)\n",
    "\n",
    "    if self.head == None:\n",
    "      self.head = new_node\n",
    "    else:\n",
    "\n",
    "      temp = self.head\n",
    "\n",
    "      while temp.next != None:\n",
    "        temp = temp.next\n",
    "\n",
    "      temp.next = new_node\n",
    "\n",
    "  def delete_head(self):\n",
    "\n",
    "    if self.head == None:\n",
    "      return \"Empty\"\n",
    "    else:\n",
    "      self.head = self.head.next\n",
    "\n",
    "  def remove(self, key):\n",
    "    if self.head.key == key:\n",
    "      self.delete_head()\n",
    "      return \n",
    "\n",
    "    if self.head == None:\n",
    "      return \"Empty\"\n",
    "    else:\n",
    "\n",
    "      temp = self.head\n",
    "\n",
    "      while temp.next != None:\n",
    "        if temp.next.key == key:\n",
    "          break\n",
    "        temp = temp.next\n",
    "\n",
    "      if temp.next == None:\n",
    "        return \"Not Found\"\n",
    "      else:\n",
    "        temp.next = temp.next.next\n",
    "        \n",
    "\n",
    "  def traverse(self):\n",
    "\n",
    "    temp = self.head\n",
    "\n",
    "    while temp != None:\n",
    "\n",
    "      print(temp.key,\"-->\",temp.value,\" \", end=\" \")\n",
    "      temp = temp.next\n",
    "\n",
    "  def size(self):\n",
    "\n",
    "    temp = self.head\n",
    "    counter = 0\n",
    "\n",
    "    while temp != None:\n",
    "\n",
    "      counter += 1\n",
    "      temp = temp.next\n",
    "\n",
    "    return counter\n",
    "\n",
    "  def search(self,key):\n",
    "\n",
    "    temp = self.head\n",
    "    pos = 0\n",
    "\n",
    "    while temp != None:\n",
    "\n",
    "      if temp.key == key:\n",
    "        return pos\n",
    "\n",
    "      temp = temp.next\n",
    "      pos += 1\n",
    "\n",
    "    return -1\n",
    "\n",
    "  def get_node_at_index(self,index):\n",
    "\n",
    "    temp = self.head\n",
    "    counter = 0\n",
    "\n",
    "    while temp is not None:\n",
    "\n",
    "      if counter == index:\n",
    "        return temp\n",
    "      temp = temp.next\n",
    "      counter+=1\n"
   ]
  },
  {
   "cell_type": "code",
   "execution_count": null,
   "id": "7a38805a-499c-4905-8110-9c1e9398691d",
   "metadata": {},
   "outputs": [],
   "source": [
    "class Dict_:\n",
    "\n",
    "    def __init__(self,capacity):\n",
    "        self.capacity = capacity\n",
    "        self.size = 0\n",
    "        # array of LL\n",
    "        self.buckets = self.makearray(self.capacity) # each ll is called bucket\n",
    "\n",
    "    def makearray(self,capacity):\n",
    "\n",
    "        L = []\n",
    "        for i in range(self.capacity):\n",
    "            L.append(LL())\n",
    "\n",
    "        return L \n",
    "\n",
    "    def put(self,key,value):\n",
    "        bucket_index = hash_fucntion(key)\n",
    "\n",
    "        node_index = get_node_index(bucket_index , key)\n",
    "\n",
    "        if node_index == -1:\n",
    "            \n",
    "\n",
    "    def get_node_index(self,bucket_index,key):\n",
    "        node_index = self.buckets[bucket_index].search(key)\n",
    "        return node_index\n",
    "        \n",
    "        \n",
    "    "
   ]
  },
  {
   "cell_type": "code",
   "execution_count": null,
   "id": "79f6ca90-7a0f-436d-bf82-32d82742c5c5",
   "metadata": {},
   "outputs": [],
   "source": []
  },
  {
   "cell_type": "code",
   "execution_count": null,
   "id": "ba244ee1-3fae-4ae9-8754-4551c816be02",
   "metadata": {},
   "outputs": [],
   "source": []
  },
  {
   "cell_type": "code",
   "execution_count": null,
   "id": "4ef6022a-9872-4f8e-8bf2-c34e3766ec33",
   "metadata": {},
   "outputs": [],
   "source": []
  },
  {
   "cell_type": "code",
   "execution_count": null,
   "id": "64a5f800-f7d5-477e-bcab-a572a40033a5",
   "metadata": {},
   "outputs": [],
   "source": []
  }
 ],
 "metadata": {
  "kernelspec": {
   "display_name": "Python 3 (ipykernel)",
   "language": "python",
   "name": "python3"
  },
  "language_info": {
   "codemirror_mode": {
    "name": "ipython",
    "version": 3
   },
   "file_extension": ".py",
   "mimetype": "text/x-python",
   "name": "python",
   "nbconvert_exporter": "python",
   "pygments_lexer": "ipython3",
   "version": "3.12.3"
  }
 },
 "nbformat": 4,
 "nbformat_minor": 5
}
