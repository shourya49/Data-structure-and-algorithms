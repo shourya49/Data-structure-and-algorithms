{
 "cells": [
  {
   "cell_type": "code",
   "execution_count": 11,
   "id": "6c6b7405-5c65-4ed0-840a-800ab9641aa7",
   "metadata": {},
   "outputs": [],
   "source": [
    "def binary_searcher(arr,low,high,item):\n",
    "    print(f\"low{low},high{high}\")\n",
    "    if low <= high:\n",
    "        #search\n",
    "        mid = (low+high)//2 # integer division or int((hih+low)/2)\n",
    "        print('mid',mid)\n",
    "        if arr[mid] == item:\n",
    "            return mid \n",
    "        elif arr[mid] > item:\n",
    "            high = mid\n",
    "            return binary_searcher(arr,low,mid-1,item)\n",
    "        else :\n",
    "            return binary_searcher(arr,mid+1,high,item)\n",
    "\n",
    "        return 'not found'\n",
    "            \n",
    "            \n",
    "        "
   ]
  },
  {
   "cell_type": "code",
   "execution_count": 12,
   "id": "955ea4a3-5ab2-4956-b6ef-7f34a9954d85",
   "metadata": {},
   "outputs": [],
   "source": [
    "arr = [1,2,3,4,]"
   ]
  },
  {
   "cell_type": "code",
   "execution_count": 13,
   "id": "6625dc6e-82b8-4ed9-be2a-3bbc2f2bf1de",
   "metadata": {},
   "outputs": [
    {
     "name": "stdout",
     "output_type": "stream",
     "text": [
      "low0,high4\n",
      "mid 2\n",
      "low0,high1\n",
      "mid 0\n",
      "low1,high1\n",
      "mid 1\n"
     ]
    },
    {
     "data": {
      "text/plain": [
       "1"
      ]
     },
     "execution_count": 13,
     "metadata": {},
     "output_type": "execute_result"
    }
   ],
   "source": [
    "binary_searcher(arr,0,len(arr),2)"
   ]
  },
  {
   "cell_type": "code",
   "execution_count": null,
   "id": "38b01c5c-162d-4241-8ecc-43c940fa2ec9",
   "metadata": {},
   "outputs": [],
   "source": []
  },
  {
   "cell_type": "code",
   "execution_count": null,
   "id": "0f76d5f3-b0e8-4f42-97e5-84a096b817d8",
   "metadata": {},
   "outputs": [],
   "source": []
  },
  {
   "cell_type": "code",
   "execution_count": null,
   "id": "fa263520-9f58-4213-b6c4-6579e50155a0",
   "metadata": {},
   "outputs": [],
   "source": []
  },
  {
   "cell_type": "code",
   "execution_count": null,
   "id": "2daab499-7cbd-4fad-8ce4-e89f083f51c5",
   "metadata": {},
   "outputs": [],
   "source": []
  },
  {
   "cell_type": "code",
   "execution_count": null,
   "id": "daf08c20-72c5-4eb4-800f-5579179648d1",
   "metadata": {},
   "outputs": [],
   "source": []
  },
  {
   "cell_type": "code",
   "execution_count": null,
   "id": "96caa059-efed-4db1-9679-adee95aeb803",
   "metadata": {},
   "outputs": [],
   "source": []
  },
  {
   "cell_type": "code",
   "execution_count": null,
   "id": "f3610c38-89c1-462f-bac9-3e3182c9bfe9",
   "metadata": {},
   "outputs": [],
   "source": []
  },
  {
   "cell_type": "code",
   "execution_count": null,
   "id": "d7a9183f-fa06-485a-acca-3a28b699f3bc",
   "metadata": {},
   "outputs": [],
   "source": []
  },
  {
   "cell_type": "code",
   "execution_count": null,
   "id": "cb2da959-ba7b-408b-bcd7-5fdec05a5c9c",
   "metadata": {},
   "outputs": [],
   "source": []
  },
  {
   "cell_type": "code",
   "execution_count": null,
   "id": "701dc8a5-2278-44b5-8b9c-59b34bb1e980",
   "metadata": {},
   "outputs": [],
   "source": []
  },
  {
   "cell_type": "code",
   "execution_count": null,
   "id": "d645aa3f-6c68-4109-b38a-4b86680af16a",
   "metadata": {},
   "outputs": [],
   "source": []
  },
  {
   "cell_type": "code",
   "execution_count": null,
   "id": "8b8fec83-8938-4781-ac1c-4772aade44f0",
   "metadata": {},
   "outputs": [],
   "source": []
  },
  {
   "cell_type": "code",
   "execution_count": null,
   "id": "b1680f5c-45ae-4364-8cab-0db0c8b884eb",
   "metadata": {},
   "outputs": [],
   "source": []
  },
  {
   "cell_type": "code",
   "execution_count": null,
   "id": "13f71bc0-797a-47bc-a23c-7e88129a7f95",
   "metadata": {},
   "outputs": [],
   "source": []
  },
  {
   "cell_type": "code",
   "execution_count": null,
   "id": "1622ea71-330d-4547-8c44-cbfe68c17823",
   "metadata": {},
   "outputs": [],
   "source": []
  },
  {
   "cell_type": "code",
   "execution_count": null,
   "id": "8f40eab7-a538-4aeb-b694-faceac240df7",
   "metadata": {},
   "outputs": [],
   "source": []
  },
  {
   "cell_type": "code",
   "execution_count": null,
   "id": "6200a109-66da-4683-8fc5-6a9825944d7f",
   "metadata": {},
   "outputs": [],
   "source": []
  }
 ],
 "metadata": {
  "kernelspec": {
   "display_name": "Python 3 (ipykernel)",
   "language": "python",
   "name": "python3"
  },
  "language_info": {
   "codemirror_mode": {
    "name": "ipython",
    "version": 3
   },
   "file_extension": ".py",
   "mimetype": "text/x-python",
   "name": "python",
   "nbconvert_exporter": "python",
   "pygments_lexer": "ipython3",
   "version": "3.12.3"
  }
 },
 "nbformat": 4,
 "nbformat_minor": 5
}
