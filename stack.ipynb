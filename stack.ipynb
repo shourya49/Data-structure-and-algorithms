{
 "cells": [
  {
   "cell_type": "code",
   "execution_count": 1,
   "id": "cb361455-7afb-47fc-952a-6a34fee04a06",
   "metadata": {},
   "outputs": [],
   "source": [
    "class Node:\n",
    "    def __init__(self,value):\n",
    "        self.data = value\n",
    "        self.next = None"
   ]
  },
  {
   "cell_type": "code",
   "execution_count": 17,
   "id": "b3be31ea-dd5e-4f91-97d1-5b5e49d18f8a",
   "metadata": {},
   "outputs": [],
   "source": [
    "class Stack:\n",
    "\n",
    "    def __init__(self):\n",
    "        self.top = None\n",
    "\n",
    "    def _isempty(self):\n",
    "        return self.top == None\n",
    "\n",
    "    def push(self,value):\n",
    "        new_node = Node(value)\n",
    "        if self._isempty is True:\n",
    "            self.top = new_node\n",
    "            return self.top\n",
    "        new_node.next = self.top\n",
    "        self.top = new_node\n",
    "\n",
    "    def traverse(self):\n",
    "        curr = self.top\n",
    "        while curr.next!= None:\n",
    "            print(curr.data)\n",
    "            curr = curr.next \n",
    "\n",
    "    def pop(self):\n",
    "        \n",
    "        if S._isempty is True:\n",
    "            return\"emptylist\"\n",
    "        else :\n",
    "            self.top = self.top.next\n",
    "            \n",
    "\n"
   ]
  },
  {
   "cell_type": "code",
   "execution_count": 9,
   "id": "3adee020-ff9c-4806-8587-43fa534456be",
   "metadata": {},
   "outputs": [],
   "source": [
    "S = Stack()"
   ]
  },
  {
   "cell_type": "code",
   "execution_count": 13,
   "id": "761c8f3a-d1d9-4585-aab1-ce572e571e07",
   "metadata": {},
   "outputs": [],
   "source": [
    "S.push(1)\n",
    "S.push(2)"
   ]
  },
  {
   "cell_type": "code",
   "execution_count": 11,
   "id": "e1e91836-91e0-4505-983b-60d14b9541b9",
   "metadata": {},
   "outputs": [
    {
     "name": "stdout",
     "output_type": "stream",
     "text": [
      "<__main__.Stack object at 0x0000026FE5AA5940>\n"
     ]
    }
   ],
   "source": [
    "print(S)"
   ]
  },
  {
   "cell_type": "code",
   "execution_count": 14,
   "id": "f88d5a48-11dd-4a09-88c8-120791e891ca",
   "metadata": {},
   "outputs": [
    {
     "name": "stdout",
     "output_type": "stream",
     "text": [
      "2\n",
      "1\n"
     ]
    }
   ],
   "source": [
    "S.traverse()"
   ]
  },
  {
   "cell_type": "code",
   "execution_count": null,
   "id": "98bb59fd-2ec9-44a0-a38c-ea0402abf6f5",
   "metadata": {},
   "outputs": [],
   "source": []
  },
  {
   "cell_type": "code",
   "execution_count": null,
   "id": "758d1fa5-358e-4ffe-9d29-ae6a05737272",
   "metadata": {},
   "outputs": [],
   "source": []
  },
  {
   "cell_type": "code",
   "execution_count": null,
   "id": "16b957de-39bb-4364-9beb-605323e72c67",
   "metadata": {},
   "outputs": [],
   "source": []
  },
  {
   "cell_type": "code",
   "execution_count": null,
   "id": "fab7a52b-1f37-4f54-9b8c-20540ec0825e",
   "metadata": {},
   "outputs": [],
   "source": []
  },
  {
   "cell_type": "code",
   "execution_count": null,
   "id": "436fa8c0-cb0e-4491-b8ea-9976570116d9",
   "metadata": {},
   "outputs": [],
   "source": []
  }
 ],
 "metadata": {
  "kernelspec": {
   "display_name": "Python 3 (ipykernel)",
   "language": "python",
   "name": "python3"
  },
  "language_info": {
   "codemirror_mode": {
    "name": "ipython",
    "version": 3
   },
   "file_extension": ".py",
   "mimetype": "text/x-python",
   "name": "python",
   "nbconvert_exporter": "python",
   "pygments_lexer": "ipython3",
   "version": "3.12.3"
  }
 },
 "nbformat": 4,
 "nbformat_minor": 5
}
