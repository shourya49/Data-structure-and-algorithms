{
 "cells": [
  {
   "cell_type": "code",
   "execution_count": 1,
   "id": "6b6b6acc-d589-45c2-894d-bd74ffc13da1",
   "metadata": {},
   "outputs": [],
   "source": [
    "class Node:\n",
    "\n",
    "    def __init__(self,value):\n",
    "        self.data = value\n",
    "        self.left = None\n",
    "        self.right = None\n",
    "\n",
    "    "
   ]
  },
  {
   "cell_type": "code",
   "execution_count": 50,
   "id": "f92cd5b0-d79e-417c-be3d-f07ccf614c73",
   "metadata": {},
   "outputs": [],
   "source": [
    "class Binarytree:\n",
    "\n",
    "    def __init__(self):\n",
    "        self.root = None\n",
    "\n",
    "    def insert(self, new):\n",
    "        new_node = Node(new)\n",
    "        if self.root is None:  # If the tree is empty\n",
    "            self.root = new_node\n",
    "            return\n",
    "        \n",
    "        # Use a helper function for recursion to preserve the original root\n",
    "        self._insert_recursive(self.root, new_node)\n",
    "\n",
    "    def _insert_recursive(self, current, new_node):\n",
    "        if new_node.data < current.data:\n",
    "            if current.left is None:  # Place the new node on the left\n",
    "                current.left = new_node\n",
    "            else:\n",
    "                self._insert_recursive(current.left, new_node)\n",
    "        elif new_node.data > current.data:\n",
    "            if current.right is None:  # Place the new node on the right\n",
    "                current.right = new_node\n",
    "            else:\n",
    "                self._insert_recursive(current.right, new_node)\n",
    "\n",
    "    def preorder(self):\n",
    "        curr = self.root\n",
    "        self.pre_order(curr)\n",
    "    def pre_order(self,node):\n",
    "            \n",
    "        if node is not None:\n",
    "            print(node.data)\n",
    "            self.pre_order(node.left)\n",
    "            self.pre_order(node.right)\n",
    "\n",
    "   \n",
    "      "
   ]
  },
  {
   "cell_type": "code",
   "execution_count": 51,
   "id": "45d53191-3f13-4c15-a4d5-515a4207d7f0",
   "metadata": {},
   "outputs": [],
   "source": [
    "tree = Binarytree()"
   ]
  },
  {
   "cell_type": "code",
   "execution_count": 52,
   "id": "9638b92c-cfbb-4869-984f-291462c1ce43",
   "metadata": {},
   "outputs": [],
   "source": [
    "tree.insert(5)"
   ]
  },
  {
   "cell_type": "code",
   "execution_count": 53,
   "id": "d649f305-3b2a-4c5e-8bf1-9468e3974269",
   "metadata": {},
   "outputs": [],
   "source": [
    "tree.insert(4)\n",
    "tree.insert(6)\n",
    "tree.insert(2)\n",
    "tree.insert(3)\n",
    "tree.insert(1)\n",
    "tree.insert(7)\n",
    "tree.insert(8)\n"
   ]
  },
  {
   "cell_type": "code",
   "execution_count": 54,
   "id": "1e912870-bdb8-4946-a016-ae17c0081aae",
   "metadata": {},
   "outputs": [
    {
     "name": "stdout",
     "output_type": "stream",
     "text": [
      "5\n",
      "4\n",
      "2\n",
      "1\n",
      "3\n",
      "6\n",
      "7\n",
      "8\n"
     ]
    }
   ],
   "source": [
    "tree.preorder()"
   ]
  },
  {
   "cell_type": "code",
   "execution_count": null,
   "id": "6c25e45c-e5fe-4c56-ac92-b189f7901e92",
   "metadata": {},
   "outputs": [],
   "source": [
    "tree.inordertraversal()"
   ]
  },
  {
   "cell_type": "code",
   "execution_count": null,
   "id": "37222a12-81e9-45fd-99ef-e83059a31a5a",
   "metadata": {},
   "outputs": [],
   "source": []
  },
  {
   "cell_type": "code",
   "execution_count": null,
   "id": "58816df4-d638-4937-b2d7-4dc2198985f0",
   "metadata": {},
   "outputs": [],
   "source": []
  },
  {
   "cell_type": "code",
   "execution_count": null,
   "id": "30ed23bb-068a-4450-a550-a688ac93d4e6",
   "metadata": {},
   "outputs": [],
   "source": []
  },
  {
   "cell_type": "code",
   "execution_count": null,
   "id": "995cae60-0e07-43f2-878d-b5492caa5f81",
   "metadata": {},
   "outputs": [],
   "source": [
    "def preorder(node):\n",
    "    if node is not None:\n",
    "        print(node.data)\n",
    "        preorder(node.left)\n",
    "        preorder(node.right)\n",
    "\n",
    "def inorder(node):\n",
    "    if node is not None:\n",
    "        inorder(node.left)\n",
    "        print(node.data)\n",
    "        inorder(node.right)\n",
    "\n",
    "def postorder(node):\n",
    "    if node is not None:\n",
    "         inorder(node.left)\n",
    "         postorder(node.right)\n",
    "         print(node.data)"
   ]
  },
  {
   "cell_type": "code",
   "execution_count": null,
   "id": "c3283bd4-57c6-4559-ae4e-edc082708b53",
   "metadata": {},
   "outputs": [],
   "source": [
    " def breadthFirstTrav(bintree):\n",
    "  #Create a queue and add the  rootnode to it.\n",
    " \n",
    "     ''' Queue q\n",
    "  q.enqueue(bintree)\n",
    " \n",
    "  #Visiteachnodeinthetree.\n",
    "  while not q.isEmpty():\n",
    "  #Removethenextnodefromthequeueandvisitit.\n",
    "  node=q.dequeue()\n",
    "  print(node.data)\n",
    " \n",
    "  #Addthetwochildrentothequeue.\n",
    "  if node.left is not None:\n",
    "      q.enqueue(node.left)\n",
    "  if node.right is not None:\n",
    "  q.enqueue(node.right)'''"
   ]
  },
  {
   "cell_type": "code",
   "execution_count": null,
   "id": "a4d143bc-2e4a-4ae5-bd13-2ed1d0f34065",
   "metadata": {},
   "outputs": [],
   "source": []
  },
  {
   "cell_type": "code",
   "execution_count": null,
   "id": "03526a21-5746-4a91-b741-f390f7827d56",
   "metadata": {},
   "outputs": [],
   "source": []
  },
  {
   "cell_type": "code",
   "execution_count": null,
   "id": "a2dec690-03b1-4d82-b561-d73e0d0827cb",
   "metadata": {},
   "outputs": [],
   "source": []
  },
  {
   "cell_type": "code",
   "execution_count": null,
   "id": "0efa80fb-4125-4e6c-a5b7-6b3f7b629927",
   "metadata": {},
   "outputs": [],
   "source": []
  },
  {
   "cell_type": "code",
   "execution_count": null,
   "id": "3fa037c4-e55f-4cab-a85a-f124bfddafb6",
   "metadata": {},
   "outputs": [],
   "source": []
  }
 ],
 "metadata": {
  "kernelspec": {
   "display_name": "Python 3 (ipykernel)",
   "language": "python",
   "name": "python3"
  },
  "language_info": {
   "codemirror_mode": {
    "name": "ipython",
    "version": 3
   },
   "file_extension": ".py",
   "mimetype": "text/x-python",
   "name": "python",
   "nbconvert_exporter": "python",
   "pygments_lexer": "ipython3",
   "version": "3.12.3"
  }
 },
 "nbformat": 4,
 "nbformat_minor": 5
}
