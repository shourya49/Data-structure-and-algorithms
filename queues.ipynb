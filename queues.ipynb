{
 "cells": [
  {
   "cell_type": "code",
   "execution_count": 1,
   "id": "de6a1fe1-20aa-4ea7-8b1a-0c3e1effafc8",
   "metadata": {},
   "outputs": [],
   "source": [
    "class Node:\n",
    "    def __init__(self,value):\n",
    "        self.data = value\n",
    "        self.next = None"
   ]
  },
  {
   "cell_type": "code",
   "execution_count": 3,
   "id": "6a0ed49d-006e-4b37-b814-1f2778987fbf",
   "metadata": {},
   "outputs": [],
   "source": [
    "class queue:\n",
    "\n",
    "    def __init__(self):\n",
    "        self.front = None\n",
    "        self.rear = None\n",
    "\n",
    "    def enq(self,value):\n",
    "        new_node = Node(value)\n",
    "        if self.rear == None:\n",
    "            self.front = new_node\n",
    "            self.rear = self.front\n",
    "        else:   \n",
    "            self.rear.next = new_node\n",
    "            self.rear = new_node\n",
    "\n",
    "    def deq(self):\n",
    "        if self.front == None:\n",
    "            return 'empty'\n",
    "\n",
    "        else:\n",
    "            self.front = self.front.next\n",
    "\n",
    "    def is_empty(self):\n",
    "        return self.front == None\n",
    "\n",
    "    def size(self):\n",
    "        curr = self.front\n",
    "        counter = 0\n",
    "        while curr!=None:\n",
    "            print(curr.data,end =' ')\n",
    "            curr = curr.next\n",
    "            counter+=1\n",
    "\n",
    "        return counter\n",
    "\n",
    "    def traverse(self):\n",
    "        curr = self.front\n",
    "\n",
    "        while curr!=None:\n",
    "            print(curr.data,end =' ')\n",
    "            curr = curr.next\n",
    "            \n",
    "            "
   ]
  },
  {
   "cell_type": "code",
   "execution_count": 16,
   "id": "1102fa13-57bf-4000-9787-8eac26fa47f3",
   "metadata": {},
   "outputs": [],
   "source": [
    "q = queue()"
   ]
  },
  {
   "cell_type": "code",
   "execution_count": 17,
   "id": "c930d76c-c720-4b8e-90c5-0f2004ac9f36",
   "metadata": {},
   "outputs": [],
   "source": [
    "q.enq(7)\n",
    "q.enq(10)\n",
    "q.enq(2)"
   ]
  },
  {
   "cell_type": "code",
   "execution_count": 18,
   "id": "2e28e699-5d87-482b-a0c7-bfcfa4ffabca",
   "metadata": {},
   "outputs": [
    {
     "name": "stdout",
     "output_type": "stream",
     "text": [
      "7 10 2 "
     ]
    }
   ],
   "source": [
    "q.traverse()"
   ]
  },
  {
   "cell_type": "code",
   "execution_count": 19,
   "id": "acc7c28b-f681-4314-a955-66af762a0c2c",
   "metadata": {},
   "outputs": [],
   "source": [
    "q.deq()"
   ]
  },
  {
   "cell_type": "code",
   "execution_count": 20,
   "id": "b74f51d7-38d0-4676-b921-5c95ae501d76",
   "metadata": {},
   "outputs": [
    {
     "name": "stdout",
     "output_type": "stream",
     "text": [
      "10 2 "
     ]
    }
   ],
   "source": [
    "q.traverse()"
   ]
  },
  {
   "cell_type": "code",
   "execution_count": null,
   "id": "4af88881-50b8-49f4-a7a9-763edb764918",
   "metadata": {},
   "outputs": [],
   "source": []
  },
  {
   "cell_type": "code",
   "execution_count": null,
   "id": "b852720d-20c0-4f08-a4de-63636684638a",
   "metadata": {},
   "outputs": [],
   "source": []
  },
  {
   "cell_type": "code",
   "execution_count": null,
   "id": "09786c6d-e7e3-474f-9f25-ce188a9331d9",
   "metadata": {},
   "outputs": [],
   "source": []
  },
  {
   "cell_type": "code",
   "execution_count": null,
   "id": "96bdcab6-2608-4bff-a2e1-0a3dce1ab8f4",
   "metadata": {},
   "outputs": [],
   "source": []
  },
  {
   "cell_type": "code",
   "execution_count": null,
   "id": "81fb716e-8740-4ea9-8c25-a07cb3972c0e",
   "metadata": {},
   "outputs": [],
   "source": []
  },
  {
   "cell_type": "code",
   "execution_count": null,
   "id": "cdd435b3-e18d-49b2-82f3-8c31667db8bb",
   "metadata": {},
   "outputs": [],
   "source": []
  },
  {
   "cell_type": "code",
   "execution_count": null,
   "id": "2f8fe177-ccef-4e24-833c-1f311b233330",
   "metadata": {},
   "outputs": [],
   "source": []
  },
  {
   "cell_type": "code",
   "execution_count": null,
   "id": "358af7a7-009e-4a54-aea9-2ea818b1985e",
   "metadata": {},
   "outputs": [],
   "source": []
  },
  {
   "cell_type": "code",
   "execution_count": null,
   "id": "a1a5ddd9-f856-46ba-ae2b-94b3c39b6273",
   "metadata": {},
   "outputs": [],
   "source": []
  },
  {
   "cell_type": "code",
   "execution_count": null,
   "id": "12f38f70-bbeb-4e08-82e0-55f3e8bae027",
   "metadata": {},
   "outputs": [],
   "source": []
  }
 ],
 "metadata": {
  "kernelspec": {
   "display_name": "Python 3 (ipykernel)",
   "language": "python",
   "name": "python3"
  },
  "language_info": {
   "codemirror_mode": {
    "name": "ipython",
    "version": 3
   },
   "file_extension": ".py",
   "mimetype": "text/x-python",
   "name": "python",
   "nbconvert_exporter": "python",
   "pygments_lexer": "ipython3",
   "version": "3.12.3"
  }
 },
 "nbformat": 4,
 "nbformat_minor": 5
}
