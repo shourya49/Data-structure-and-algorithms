{
 "cells": [
  {
   "cell_type": "code",
   "execution_count": 1,
   "id": "1565050d-906b-4c30-9066-8223a8a07a42",
   "metadata": {},
   "outputs": [],
   "source": [
    "def is_sorted(arr):\n",
    "\n",
    "    sorted = True\n",
    "\n",
    "    for i in range(len(arr)-1):\n",
    "        if arr[i] >  arr[i+1]:\n",
    "            sorted = False\n",
    "            return sorted\n",
    "        i=i+1\n",
    "\n",
    "    return sorted\n",
    "    "
   ]
  },
  {
   "cell_type": "code",
   "execution_count": 2,
   "id": "3182b941-6a63-4554-ad47-b0f3eb9f3f24",
   "metadata": {},
   "outputs": [],
   "source": [
    "arr = [1,2,9,4,]"
   ]
  },
  {
   "cell_type": "code",
   "execution_count": 3,
   "id": "a47a2175-f91b-48c6-b0ce-f8e27989e7ae",
   "metadata": {},
   "outputs": [
    {
     "data": {
      "text/plain": [
       "False"
      ]
     },
     "execution_count": 3,
     "metadata": {},
     "output_type": "execute_result"
    }
   ],
   "source": [
    "is_sorted(arr)"
   ]
  },
  {
   "cell_type": "code",
   "execution_count": 4,
   "id": "f1e4d20e-2014-4c4c-b5c7-dcbbad1c4fe9",
   "metadata": {},
   "outputs": [],
   "source": [
    "# monkey sort\n",
    "import random\n",
    "a = [1,2,3,4,100,90,70,80,209]\n"
   ]
  },
  {
   "cell_type": "code",
   "execution_count": 5,
   "id": "f7f9ede5-cf43-458a-a233-5a45bd00c9b2",
   "metadata": {},
   "outputs": [],
   "source": [
    "def monkey_sort(arr):  # tukka marna\n",
    "    while not is_sorted(arr) :\n",
    "        random.shuffle(arr)\n",
    "        print(arr)\n",
    "    print(arr)\n",
    "    \n",
    "        \n",
    "        \n",
    "        "
   ]
  },
  {
   "cell_type": "code",
   "execution_count": 6,
   "id": "01012a79-283d-4f11-ba66-50a3418745f8",
   "metadata": {
    "scrolled": true
   },
   "outputs": [],
   "source": [
    "#monkey_sort(a)"
   ]
  },
  {
   "cell_type": "code",
   "execution_count": 7,
   "id": "abf3fbeb-4542-4223-a953-b46df18f0bff",
   "metadata": {},
   "outputs": [],
   "source": [
    "# bubble sort \n",
    "def _bsort(arr):\n",
    "    \n",
    "    while not is_sorted(arr):\n",
    "        for i in range(len(arr)-1):\n",
    "            if arr[i] > arr[i+1] :\n",
    "                \n",
    "                arr[i+1],arr[i] = arr[i],arr[i+1] # or you can use a 3 variable\n",
    "                \n",
    "            i = i+1\n",
    "    return (is_sorted(arr),arr)"
   ]
  },
  {
   "cell_type": "code",
   "execution_count": 8,
   "id": "25636865-31e2-40ff-8486-6ed2bdaa733a",
   "metadata": {},
   "outputs": [],
   "source": [
    "arr = [2,5,10,3,1,0,20,2.4,100,90,200,50,500,0.2,250]"
   ]
  },
  {
   "cell_type": "code",
   "execution_count": 9,
   "id": "619d03e9-cbf7-4fd3-b5a3-81c4f179b590",
   "metadata": {},
   "outputs": [
    {
     "data": {
      "text/plain": [
       "(True, [0, 0.2, 1, 2, 2.4, 3, 5, 10, 20, 50, 90, 100, 200, 250, 500])"
      ]
     },
     "execution_count": 9,
     "metadata": {},
     "output_type": "execute_result"
    }
   ],
   "source": [
    "_bsort(arr)"
   ]
  },
  {
   "cell_type": "code",
   "execution_count": 10,
   "id": "4e1ebbc2-5e4a-43a5-bf21-18bed4dc095a",
   "metadata": {},
   "outputs": [],
   "source": [
    "# main \n",
    "def bubble_sort(arr):\n",
    "    for i in range(len(arr)-1):\n",
    "        for j in range(len(arr)-1-i):\n",
    "            if arr[i] > arr[i+1] :\n",
    "                \n",
    "                arr[i+1],arr[i] = arr[i],arr[i+1] # or you can use a 3 variable\n",
    "    print(arr)"
   ]
  },
  {
   "cell_type": "code",
   "execution_count": 11,
   "id": "0bbb98e3-f6e0-4c4d-94e5-78125a4d061d",
   "metadata": {},
   "outputs": [],
   "source": [
    "# selection sort\n",
    "\n",
    "def _selectionsort(arr):\n",
    "    for i in range(len(arr)-1):\n",
    "        min = i\n",
    "        for j in range(i+1,len(arr)):\n",
    "            if arr[j] < arr[min]:\n",
    "                min = j\n",
    "\n",
    "        arr[i],arr[min]=arr[min],arr[i]\n",
    "    print(arr)\n",
    "    "
   ]
  },
  {
   "cell_type": "code",
   "execution_count": 12,
   "id": "8301e5b9-2438-4a7d-a3fd-3a7fa21ba1a1",
   "metadata": {},
   "outputs": [],
   "source": [
    "arr = [2,5,10,3,1,0,20,2.4,100,90,200,50,500,0.2,250]"
   ]
  },
  {
   "cell_type": "code",
   "execution_count": 13,
   "id": "635dd07c-a236-4aee-9960-7750ba54407a",
   "metadata": {},
   "outputs": [
    {
     "name": "stdout",
     "output_type": "stream",
     "text": [
      "[0, 0.2, 1, 2, 2.4, 3, 5, 10, 20, 50, 90, 100, 200, 250, 500]\n"
     ]
    }
   ],
   "source": [
    "_selectionsort(arr)"
   ]
  },
  {
   "cell_type": "code",
   "execution_count": 14,
   "id": "eddda5c5-ce92-4de6-a185-5cc23ed5abd7",
   "metadata": {},
   "outputs": [],
   "source": [
    "def merge_sorted(arr1,arr2,arr):\n",
    "\n",
    "    i = j = k = 0\n",
    "    \n",
    "\n",
    "    while i < len(arr1) and j < len(arr2):\n",
    "        if arr1[i] < arr2[j]:\n",
    "            arr[k] = arr1[i]\n",
    "            i+=1\n",
    "        else:\n",
    "            arr[k] = arr2[j]\n",
    "            j+=1\n",
    "\n",
    "        k = k+1\n",
    "\n",
    "    while i < len(arr1):\n",
    "        arr[k] = arr1[i]\n",
    "        i = i+1\n",
    "        k = k+1\n",
    "\n",
    "    while j < len(arr2):\n",
    "        arr[k] = arr2[j]\n",
    "        j = j+1\n",
    "        k = k+1\n",
    "\n",
    "     \n",
    "    "
   ]
  },
  {
   "cell_type": "code",
   "execution_count": 15,
   "id": "e3f82a16-ac3f-4dae-95c0-94dc36d6db9f",
   "metadata": {},
   "outputs": [],
   "source": [
    "def _mergesort(arr):\n",
    "\n",
    "    if len(arr) == 1:\n",
    "        return arr\n",
    "\n",
    "    mid = len(arr)//2\n",
    "    left = arr[:mid]\n",
    "    right = arr[mid:]\n",
    "\n",
    "    mergesort(left)\n",
    "    mergesort(right)\n",
    "\n",
    "    merge_sorted(left,right,arr)"
   ]
  },
  {
   "cell_type": "code",
   "execution_count": null,
   "id": "e9cbd7dd-e393-49c7-b481-0a5d75d5da9f",
   "metadata": {},
   "outputs": [],
   "source": []
  },
  {
   "cell_type": "code",
   "execution_count": null,
   "id": "a6310592-a455-49e6-a350-3520f275a6e5",
   "metadata": {},
   "outputs": [],
   "source": []
  },
  {
   "cell_type": "code",
   "execution_count": null,
   "id": "83423284-d9bd-47d2-a32c-1040adc739b1",
   "metadata": {},
   "outputs": [],
   "source": []
  },
  {
   "cell_type": "code",
   "execution_count": null,
   "id": "f98f369e-ad37-4977-9f2c-04caecf92c45",
   "metadata": {},
   "outputs": [],
   "source": []
  },
  {
   "cell_type": "code",
   "execution_count": null,
   "id": "e8e248f5-5a3f-48fc-9bdf-32d800662aac",
   "metadata": {},
   "outputs": [],
   "source": []
  },
  {
   "cell_type": "code",
   "execution_count": null,
   "id": "db24dcb5-34dc-4e52-9491-ee01be75d536",
   "metadata": {},
   "outputs": [],
   "source": []
  },
  {
   "cell_type": "code",
   "execution_count": null,
   "id": "19a4a5db-16d7-4411-95cb-83397a0e5b8a",
   "metadata": {},
   "outputs": [],
   "source": []
  },
  {
   "cell_type": "code",
   "execution_count": null,
   "id": "7be167cb-2997-4b05-b0a6-d17696ae86d6",
   "metadata": {},
   "outputs": [],
   "source": []
  },
  {
   "cell_type": "code",
   "execution_count": null,
   "id": "39312bab-1ef4-48a9-a90d-c29cc11f816f",
   "metadata": {},
   "outputs": [],
   "source": []
  },
  {
   "cell_type": "code",
   "execution_count": null,
   "id": "cb1590f2-c7bd-4144-bfcc-c65b29f67d7d",
   "metadata": {},
   "outputs": [],
   "source": []
  },
  {
   "cell_type": "code",
   "execution_count": null,
   "id": "c6229bdb-e13f-421d-a6d8-897f3dd935d2",
   "metadata": {},
   "outputs": [],
   "source": []
  }
 ],
 "metadata": {
  "kernelspec": {
   "display_name": "Python 3 (ipykernel)",
   "language": "python",
   "name": "python3"
  },
  "language_info": {
   "codemirror_mode": {
    "name": "ipython",
    "version": 3
   },
   "file_extension": ".py",
   "mimetype": "text/x-python",
   "name": "python",
   "nbconvert_exporter": "python",
   "pygments_lexer": "ipython3",
   "version": "3.12.3"
  }
 },
 "nbformat": 4,
 "nbformat_minor": 5
}
