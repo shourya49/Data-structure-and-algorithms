{
 "cells": [
  {
   "cell_type": "code",
   "execution_count": 1,
   "id": "e42fcbaa-f90f-4a03-912e-de5ac4c02829",
   "metadata": {},
   "outputs": [],
   "source": [
    "class Node:\n",
    " def __init__(self,value):\n",
    "    self.data = value\n",
    "    self.next = None\n",
    "     "
   ]
  },
  {
   "cell_type": "code",
   "execution_count": 2,
   "id": "8044c9b1-63bd-4462-81de-83e7b2f1fef7",
   "metadata": {},
   "outputs": [],
   "source": [
    "a = Node(1)"
   ]
  },
  {
   "cell_type": "code",
   "execution_count": 3,
   "id": "e5184bb9-fa36-4383-b379-09dea14724f8",
   "metadata": {},
   "outputs": [
    {
     "name": "stdout",
     "output_type": "stream",
     "text": [
      "<__main__.Node object at 0x00000205EF6AEAE0>\n"
     ]
    }
   ],
   "source": [
    "print(a)  # if we have used __str__ then string will be printed"
   ]
  },
  {
   "cell_type": "code",
   "execution_count": 4,
   "id": "c77f31ba-1953-4707-813a-c8a0d464f8ab",
   "metadata": {},
   "outputs": [
    {
     "name": "stdout",
     "output_type": "stream",
     "text": [
      "1 , None\n"
     ]
    }
   ],
   "source": [
    "print(a.data,',',a.next)\n"
   ]
  },
  {
   "cell_type": "code",
   "execution_count": 5,
   "id": "a15f346d-e158-418a-aa5d-f4aa9b25015f",
   "metadata": {},
   "outputs": [
    {
     "data": {
      "text/plain": [
       "2224514853600"
      ]
     },
     "execution_count": 5,
     "metadata": {},
     "output_type": "execute_result"
    }
   ],
   "source": [
    "id(a)"
   ]
  },
  {
   "cell_type": "code",
   "execution_count": 6,
   "id": "02e5f954-85d2-48c5-95fb-05d20da4ce62",
   "metadata": {},
   "outputs": [],
   "source": [
    "b = Node(2)"
   ]
  },
  {
   "cell_type": "code",
   "execution_count": 7,
   "id": "1579c1d4-8e11-47f3-8a5b-e77cdbaa165e",
   "metadata": {},
   "outputs": [],
   "source": [
    "c = Node(3)"
   ]
  },
  {
   "cell_type": "code",
   "execution_count": 8,
   "id": "37dc21fe-a669-4110-9abc-d4ba433e147c",
   "metadata": {},
   "outputs": [],
   "source": [
    "a.next = b\n",
    "b.next = c"
   ]
  },
  {
   "cell_type": "code",
   "execution_count": 9,
   "id": "540068f2-32f4-4ec8-bb83-f871305e0717",
   "metadata": {},
   "outputs": [
    {
     "name": "stdout",
     "output_type": "stream",
     "text": [
      "<__main__.Node object at 0x00000205EF9F6F90> <__main__.Node object at 0x00000205EF9F6F90>\n"
     ]
    }
   ],
   "source": [
    "print(a.next,b) # see both are same"
   ]
  },
  {
   "cell_type": "markdown",
   "id": "f332d6f9-7f92-4654-99be-5439d0d997d1",
   "metadata": {},
   "source": [
    "here we created individual nodes and connect them\n"
   ]
  },
  {
   "cell_type": "code",
   "execution_count": 10,
   "id": "57067b00-6069-456e-a663-0ee9328c2ccf",
   "metadata": {},
   "outputs": [],
   "source": [
    "class Linkedlist:\n",
    "\n",
    "    def __init__(self):\n",
    "        #empty linked list means zero node\n",
    "        self.head = None\n",
    "        self.n = 0 # number of nodes in linked list\n",
    "\n",
    "    def __len__(self):\n",
    "        return self.n\n",
    "\n",
    "    def insert_head(self,value):\n",
    "        new_node = Node(value)\n",
    "        # create connection\n",
    "        new_node.next = self.head\n",
    "        self.head = new_node\n",
    "        self.n = self.n + 1\n",
    "\n",
    "    def traverse(self) :\n",
    "        curr = self.head\n",
    "\n",
    "        while curr != None:\n",
    "            print(curr.data)\n",
    "            curr = curr.next\n",
    "        "
   ]
  },
  {
   "cell_type": "code",
   "execution_count": 11,
   "id": "05768c9a-83c6-4f1b-bc24-91c5583dc8ad",
   "metadata": {},
   "outputs": [],
   "source": [
    "L = Linkedlist()"
   ]
  },
  {
   "cell_type": "code",
   "execution_count": 12,
   "id": "bcb49bf4-2cf6-4ae9-af85-683dc4b3e89c",
   "metadata": {},
   "outputs": [],
   "source": [
    "L.insert_head(1)\n",
    "L.insert_head(2)\n",
    "L.insert_head(3)\n",
    "L.insert_head(4)"
   ]
  },
  {
   "cell_type": "code",
   "execution_count": 13,
   "id": "2866de3a-7134-4817-b117-f68029171779",
   "metadata": {},
   "outputs": [
    {
     "data": {
      "text/plain": [
       "4"
      ]
     },
     "execution_count": 13,
     "metadata": {},
     "output_type": "execute_result"
    }
   ],
   "source": [
    "len(L)\n"
   ]
  },
  {
   "cell_type": "code",
   "execution_count": 14,
   "id": "662de6b0-3486-456f-a28d-20f0fec95b5b",
   "metadata": {},
   "outputs": [
    {
     "name": "stdout",
     "output_type": "stream",
     "text": [
      "4\n",
      "3\n",
      "2\n",
      "1\n"
     ]
    }
   ],
   "source": [
    "L.traverse()"
   ]
  },
  {
   "cell_type": "code",
   "execution_count": 19,
   "id": "42fd1f05-37a7-491d-b0ce-bb6e68efdaa2",
   "metadata": {},
   "outputs": [],
   "source": [
    "class Linkedlist:\n",
    "\n",
    "    def __init__(self):\n",
    "        #empty linked list means zero node\n",
    "        self.head = None\n",
    "        self.n = 0 # number of nodes in linked list\n",
    "\n",
    "    def __len__(self):\n",
    "        return self.n\n",
    "\n",
    "    def insert_head(self,value):\n",
    "        new_node = Node(value)\n",
    "        # create connection\n",
    "        new_node.next = self.head\n",
    "        self.head = new_node\n",
    "        self.n = self.n + 1\n",
    "\n",
    "    def __str__(self) :\n",
    "        curr = self.head\n",
    "        result =''\n",
    "        \n",
    "        while curr != None:\n",
    "            result = result + str(curr.data) + '->'\n",
    "            curr = curr.next\n",
    "        return result[:-2]\n",
    "\n",
    "    def append(self,value):  # insert at the tail\n",
    "        new_node = Node(value)\n",
    "        if self.head == None:\n",
    "            self.head = new_node\n",
    "            self.n = self.n + 1\n",
    "            \n",
    "        else :\n",
    "            curr = self.head\n",
    "\n",
    "            while curr.next!= None:\n",
    "                curr = curr.next\n",
    "            #  you are the at last node\n",
    "            curr.next = new_node\n",
    "            self.n = self.n + 1\n",
    "\n",
    "    def _insertafter(self,after,value):\n",
    "        new_node = Node(value)\n",
    "        curr = self.head\n",
    "\n",
    "        while curr is not None :\n",
    "            if curr.data == after :\n",
    "                break\n",
    "            curr = curr.next\n",
    "        # case 1 break -> item apko mil gya , curr not none\n",
    "        if curr is not None :\n",
    "           # logic\n",
    "            new_node.next = curr.next\n",
    "            curr.next = new_node\n",
    "            self.n = self.n+1\n",
    "            \n",
    "        else :                          #  case 2 when curr is none means after value nnode does not exist\n",
    "            return \"item not found\"\n",
    "        \n",
    "    def clear(self):\n",
    "        self.head = None\n",
    "        self.n = 0\n",
    "\n",
    "    def delete_head(self):\n",
    "        if self.head == None:\n",
    "            return 'empty linked list'\n",
    "        self.head = self.head.next\n",
    "        self.n -= 1\n",
    "\n",
    "    def pop(self) : # remove from tail\n",
    "\n",
    "        curr = self.head\n",
    "        \n",
    "        if self.head == None:\n",
    "             return 'empty ll'       \n",
    "        if curr.next == None:\n",
    "            self.head = None\n",
    "            return\n",
    "        while curr.next.next is not None :\n",
    "            curr = curr.next\n",
    "            \n",
    "        # we are at second last node\n",
    "        curr.next= None\n",
    "        self.n -= 1\n",
    "\n",
    "    def remove(self,value):\n",
    "        if self.head == None:\n",
    "             return 'empty ll' \n",
    "            \n",
    "        curr = self.head\n",
    "        \n",
    "        if curr.data == value:\n",
    "            self.head = None\n",
    "            return\n",
    "\n",
    "        while curr.next != None :\n",
    "            if curr.next == value:\n",
    "                break\n",
    "            curr = curr.next\n",
    "            \n",
    "        if curr.next is None :\n",
    "            return \"not found\"\n",
    "        else:\n",
    "            curr.next = curr.next.next\n",
    "\n",
    "    def search(self,item):\n",
    "        pos = 0\n",
    "        curr = self.head\n",
    "        while curr != None:\n",
    "            if curr.data == item :\n",
    "                return pos\n",
    "            curr = curr.next\n",
    "            pos = pos + 1\n",
    "        return \"not found\"\n",
    "\n",
    "    def __getitem__(self,index):\n",
    "        pos = 0\n",
    "        curr = self.head\n",
    "\n",
    "        while curr.next != None :\n",
    "            if pos == index :\n",
    "                return curr.data\n",
    "            curr = curr.next\n",
    "            pos = pos + 1\n",
    "\n",
    "        return 'not found'\n",
    "\n",
    "    def reverse(self):\n",
    "        prev_node = None\n",
    "        curr = self.head\n",
    "\n",
    "        while curr != None :\n",
    "            next_node = curr.next\n",
    "            curr.next = prev_node\n",
    "            prev_node = curr\n",
    "            curr = next_node\n",
    "\n",
    "        self.head = prev_node\n",
    "            \n",
    "             \n",
    "        \n",
    "        \n",
    "        \n",
    "            \n",
    "        \n",
    "            \n",
    "        "
   ]
  },
  {
   "cell_type": "code",
   "execution_count": 16,
   "id": "b49418e2-3f93-4005-af7a-08e7994ef1f0",
   "metadata": {},
   "outputs": [],
   "source": [
    "L = Linkedlist()"
   ]
  },
  {
   "cell_type": "code",
   "execution_count": 17,
   "id": "7a7d22a1-2393-446a-8620-87f875887205",
   "metadata": {},
   "outputs": [],
   "source": [
    "L.insert_head(1)\n",
    "L.insert_head(2)\n",
    "L.insert_head(3)\n",
    "L.insert_head(4)"
   ]
  },
  {
   "cell_type": "code",
   "execution_count": 18,
   "id": "2c9afb16-e7c7-405e-8a2e-3980d99db0ba",
   "metadata": {},
   "outputs": [
    {
     "data": {
      "text/plain": [
       "3"
      ]
     },
     "execution_count": 18,
     "metadata": {},
     "output_type": "execute_result"
    }
   ],
   "source": [
    "L[1]"
   ]
  },
  {
   "cell_type": "code",
   "execution_count": null,
   "id": "6e92c3a7-7a5c-440b-8a44-1853e37847c4",
   "metadata": {},
   "outputs": [],
   "source": []
  },
  {
   "cell_type": "code",
   "execution_count": null,
   "id": "0bd62812-27c8-42d6-a9e2-15b09ce969e4",
   "metadata": {},
   "outputs": [],
   "source": []
  }
 ],
 "metadata": {
  "kernelspec": {
   "display_name": "Python 3 (ipykernel)",
   "language": "python",
   "name": "python3"
  },
  "language_info": {
   "codemirror_mode": {
    "name": "ipython",
    "version": 3
   },
   "file_extension": ".py",
   "mimetype": "text/x-python",
   "name": "python",
   "nbconvert_exporter": "python",
   "pygments_lexer": "ipython3",
   "version": "3.12.3"
  }
 },
 "nbformat": 4,
 "nbformat_minor": 5
}
